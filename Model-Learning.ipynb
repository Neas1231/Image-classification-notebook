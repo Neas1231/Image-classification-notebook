{
 "cells": [
  {
   "cell_type": "markdown",
   "id": "5415d2d7",
   "metadata": {},
   "source": [
    "## Загрузка библиотек \n"
   ]
  },
  {
   "cell_type": "code",
   "execution_count": 1,
   "id": "56bdf7d4",
   "metadata": {
    "scrolled": false
   },
   "outputs": [
    {
     "data": {
      "text/plain": [
       "<contextlib.ExitStack at 0x19d26685c70>"
      ]
     },
     "execution_count": 1,
     "metadata": {},
     "output_type": "execute_result"
    }
   ],
   "source": [
    "from __future__ import print_function, division\n",
    "import torch\n",
    "import torch.nn as nn\n",
    "import torch.optim as optim\n",
    "from torch.optim import lr_scheduler\n",
    "import torch.backends.cudnn as cudnn\n",
    "import numpy as np\n",
    "import torchvision\n",
    "from torchvision import datasets, models, transforms\n",
    "import matplotlib.pyplot as plt\n",
    "import time\n",
    "import os\n",
    "import glob\n",
    "import copy\n",
    "import neptune\n",
    "#import splitfolders # Библиотека для разделения файлов картинок на train test\n",
    "import matplotlib.gridspec as gridspec\n",
    "cudnn.benchmark = True\n",
    "plt.ion()\n"
   ]
  },
  {
   "cell_type": "markdown",
   "id": "8adfa0e4",
   "metadata": {},
   "source": [
    "# Загрузка данных "
   ]
  },
  {
   "cell_type": "code",
   "execution_count": 2,
   "id": "45e19faf",
   "metadata": {
    "scrolled": true
   },
   "outputs": [
    {
     "name": "stderr",
     "output_type": "stream",
     "text": [
      "D:\\hroneniyas\\anacondas\\envs\\gputorch\\lib\\site-packages\\neptune\\common\\warnings.py:62: NeptuneWarning: To avoid unintended consumption of logging hours during interactive sessions, the following monitoring options are disabled unless set to 'True' when initializing the run: 'capture_stdout', 'capture_stderr', and 'capture_hardware_metrics'.\n",
      "  warnings.warn(\n"
     ]
    },
    {
     "name": "stdout",
     "output_type": "stream",
     "text": [
      "https://app.neptune.ai/neas1231/Neas1231/e/NEAS-15\n"
     ]
    }
   ],
   "source": [
    "# Разделить данные на трейн тест не руками а библиотекой \n",
    "#splitfolders.ratio(\n",
    "#  \"C:\\data\\dataset\",\n",
    "#   output='C:\\data\\dataset\\split',\n",
    "#   seed=42,\n",
    "#    ratio=(.8, .1, 0.1),\n",
    "#    group_prefix=None,\n",
    "  #  move=False)\n",
    "    \n",
    "run = neptune.init_run(\n",
    "    project=\"neas1231/Neas1231\",\n",
    "    api_token=\"eyJhcGlfYWRkcmVzcyI6Imh0dHBzOi8vYXBwLm5lcHR1bmUuYWkiLCJhcGlfdXJsIjoiaHR0cHM6Ly9hcHAubmVwdHVuZS5haSIsImFwaV9rZXkiOiJmY2VjMGIzOS01ZjI1LTQ1MTItODQxYi0zMjIyOWIwYWI0MzIifQ==\",\n",
    ")\n",
    "#Нормализация и  аугментация  данных\n",
    "\n",
    "data_transforms = {\n",
    "    'train': transforms.Compose([\n",
    "        transforms.RandomResizedCrop(224),\n",
    "        transforms.RandomHorizontalFlip(),\n",
    "        transforms.ToTensor(),\n",
    "        transforms.Normalize([0.485, 0.456, 0.406], [0.229, 0.224, 0.225])\n",
    "    ]),\n",
    "    'val': transforms.Compose([\n",
    "        transforms.Resize(256),\n",
    "        transforms.CenterCrop(224),\n",
    "        transforms.ToTensor(),\n",
    "        transforms.Normalize([0.485, 0.456, 0.406], [0.229, 0.224, 0.225])\n",
    "    ]),\n",
    "}\n",
    "\n",
    "data_dir = 'E:\\datasets\\dataset'\n",
    "run[\"config/data_dir\"] = data_dir\n",
    "\n",
    "image_datasets = {x: datasets.ImageFolder(os.path.join(data_dir, x),\n",
    "                                          data_transforms[x])\n",
    "              for x in ['train', 'val']}\n",
    "dataloaders = {x: torch.utils.data.DataLoader(image_datasets[x], batch_size=10,\n",
    "                                             shuffle=True, num_workers=8)\n",
    "              for x in ['train', 'val']}\n",
    "\n",
    "dataset_sizes = {x: len(image_datasets[x]) \n",
    "              for x in ['train', 'val']}\n",
    "\n",
    "class_names = image_datasets['train'].classes\n",
    "\n",
    "device = torch.device(\"cuda:0\" if torch.cuda.is_available() else \"cpu\")"
   ]
  },
  {
   "cell_type": "code",
   "execution_count": null,
   "id": "cd588365",
   "metadata": {},
   "outputs": [],
   "source": [
    "функция  для обучения и для высчитывания градиентов "
   ]
  },
  {
   "cell_type": "code",
   "execution_count": 3,
   "id": "a67b23f8",
   "metadata": {
    "scrolled": true
   },
   "outputs": [],
   "source": [
    "def train_model(model, criterion, optimizer, scheduler, num_epochs=14):\n",
    "    since = time.time()\n",
    "    #Сохраняем  лучшие веса \n",
    "    best_model_wts = copy.deepcopy(model.state_dict())\n",
    "    best_acc = 0.0\n",
    "\n",
    "    for epoch in range(num_epochs):\n",
    "        print(f'Epoch {epoch}/{num_epochs - 1}')\n",
    "        print('-' * 10)\n",
    "\n",
    "\n",
    "        for phase in ['train', 'val']:\n",
    "            if phase == 'train':\n",
    "                model.train()  \n",
    "            else:\n",
    "                model.eval()   \n",
    "\n",
    "            running_loss = 0.0\n",
    "            running_corrects = 0\n",
    "\n",
    "            # перенос  вычислений на куду \n",
    "            for inputs, labels in dataloaders[phase]:\n",
    "                inputs = inputs.to(device)\n",
    "                labels = labels.to(device)\n",
    "\n",
    "                \n",
    "                optimizer.zero_grad()\n",
    "\n",
    "                #\n",
    "                \n",
    "                with torch.set_grad_enabled(phase == 'train'):\n",
    "                    outputs = model(inputs)\n",
    "                    _, preds = torch.max(outputs, 1)\n",
    "                    loss = criterion(outputs, labels)\n",
    "                    acc = (torch.sum(preds == labels.data)) / len(inputs)\n",
    "                    run[\"logs/training/batch/loss\"].append(loss)\n",
    "                    run[\"logs/training/batch/acc\"].append(acc)\n",
    "\n",
    "                    # считаем градиенты тольок если трейн данные \n",
    "                    if phase == 'train':\n",
    "                        loss.backward()\n",
    "                        optimizer.step()\n",
    "\n",
    "                # стасистика  \n",
    "                running_loss += loss.item() * inputs.size(0)\n",
    "                running_corrects += torch.sum(preds == labels.data)\n",
    "            if phase == 'train':\n",
    "                scheduler.step()\n",
    "\n",
    "            epoch_loss = running_loss / dataset_sizes[phase]\n",
    "            epoch_acc = running_corrects.double() / dataset_sizes[phase]\n",
    "\n",
    "            print(f'{phase} Loss: {epoch_loss:.4f} Acc: {epoch_acc:.4f}')\n",
    "\n",
    "            # сохраняем не только лучшие веса , но и акураси \n",
    "            if phase == 'val' and epoch_acc > best_acc:\n",
    "                best_acc = epoch_acc\n",
    "                best_model_wts = copy.deepcopy(model.state_dict())\n",
    "\n",
    "        print()\n",
    "\n",
    "    time_elapsed = time.time() - since\n",
    "    print(f'Training complete in {time_elapsed // 60:.0f}m {time_elapsed % 60:.0f}s')\n",
    "    print(f'Best val Acc: {best_acc:4f}')\n",
    "\n",
    "    model.load_state_dict(best_model_wts)\n",
    "    return model"
   ]
  },
  {
   "cell_type": "markdown",
   "id": "d19e6a3a",
   "metadata": {},
   "source": [
    "# Параметры для модели "
   ]
  },
  {
   "cell_type": "code",
   "execution_count": 6,
   "id": "d9f5abdc",
   "metadata": {
    "scrolled": true
   },
   "outputs": [
    {
     "name": "stderr",
     "output_type": "stream",
     "text": [
      "D:\\hroneniyas\\anacondas\\envs\\gputorch\\lib\\site-packages\\torchvision\\models\\_utils.py:208: UserWarning: The parameter 'pretrained' is deprecated since 0.13 and may be removed in the future, please use 'weights' instead.\n",
      "  warnings.warn(\n",
      "D:\\hroneniyas\\anacondas\\envs\\gputorch\\lib\\site-packages\\torchvision\\models\\_utils.py:223: UserWarning: Arguments other than a weight enum or `None` for 'weights' are deprecated since 0.13 and may be removed in the future. The current behavior is equivalent to passing `weights=EfficientNet_B4_Weights.IMAGENET1K_V1`. You can also use `weights=EfficientNet_B4_Weights.DEFAULT` to get the most up-to-date weights.\n",
      "  warnings.warn(msg)\n",
      "D:\\hroneniyas\\anacondas\\envs\\gputorch\\lib\\site-packages\\neptune\\common\\warnings.py:62: NeptuneUnsupportedType: You're attempting to log a type that is not directly supported by Neptune (<class 'torchvision.models.efficientnet.EfficientNet'>).\n",
      "        Convert the value to a supported type, such as a string or float, or use stringify_unsupported(obj)\n",
      "        for dictionaries or collections that contain unsupported values.\n",
      "        For more, see https://docs.neptune.ai/help/value_of_unsupported_type\n",
      "  warnings.warn(\n",
      "D:\\hroneniyas\\anacondas\\envs\\gputorch\\lib\\site-packages\\neptune\\common\\warnings.py:62: NeptuneUnsupportedType: You're attempting to log a type that is not directly supported by Neptune (<class 'torch.nn.modules.loss.CrossEntropyLoss'>).\n",
      "        Convert the value to a supported type, such as a string or float, or use stringify_unsupported(obj)\n",
      "        for dictionaries or collections that contain unsupported values.\n",
      "        For more, see https://docs.neptune.ai/help/value_of_unsupported_type\n",
      "  warnings.warn(\n",
      "D:\\hroneniyas\\anacondas\\envs\\gputorch\\lib\\site-packages\\neptune\\common\\warnings.py:62: NeptuneUnsupportedType: You're attempting to log a type that is not directly supported by Neptune (<class 'torch.optim.adam.Adam'>).\n",
      "        Convert the value to a supported type, such as a string or float, or use stringify_unsupported(obj)\n",
      "        for dictionaries or collections that contain unsupported values.\n",
      "        For more, see https://docs.neptune.ai/help/value_of_unsupported_type\n",
      "  warnings.warn(\n",
      "D:\\hroneniyas\\anacondas\\envs\\gputorch\\lib\\site-packages\\neptune\\common\\warnings.py:62: NeptuneUnsupportedType: You're attempting to log a type that is not directly supported by Neptune (<class 'generator'>).\n",
      "        Convert the value to a supported type, such as a string or float, or use stringify_unsupported(obj)\n",
      "        for dictionaries or collections that contain unsupported values.\n",
      "        For more, see https://docs.neptune.ai/help/value_of_unsupported_type\n",
      "  warnings.warn(\n"
     ]
    }
   ],
   "source": [
    "model_ft = models.efficientnet_b4(pretrained=True)\n",
    "num_ftrs = model_conv.classifier[1].in_features\n",
    "# num_ftrs = model_ft.fc.in_features Для рес нета , но у эфинета другая архитектура \n",
    "\n",
    "model_ft.fc = nn.Linear(num_ftrs, len(class_names))\n",
    "# cuda\n",
    "model_ft = model_ft.to(device)\n",
    "run[\"config/model\"] = model_ft\n",
    "\n",
    "criterion = nn.CrossEntropyLoss()\n",
    "run[\"config/criterion\"] =criterion\n",
    "\n",
    "# оптимайзер  с лернинг рейт \n",
    "optimizer_ft = optim.Adam(model_ft.parameters(), lr=0.001)\n",
    "run[\"config/optimizer\"] = optimizer_ft\n",
    "run[\"parameters\"] = model_ft.parameters()\n",
    "\n",
    "# редактируем лернинг рейт каждые 7 шагов \n",
    "exp_lr_scheduler = lr_scheduler.StepLR(optimizer_ft, step_size=7, gamma=0.1)"
   ]
  },
  {
   "cell_type": "code",
   "execution_count": 7,
   "id": "0487316e",
   "metadata": {
    "scrolled": false
   },
   "outputs": [
    {
     "name": "stdout",
     "output_type": "stream",
     "text": [
      "Epoch 0/13\n",
      "----------\n",
      "train Loss: 0.9951 Acc: 0.6927\n",
      "val Loss: 0.4877 Acc: 0.8495\n",
      "\n",
      "Epoch 1/13\n",
      "----------\n",
      "train Loss: 0.6158 Acc: 0.7959\n",
      "val Loss: 0.3549 Acc: 0.8744\n",
      "\n",
      "Epoch 2/13\n",
      "----------\n",
      "train Loss: 0.5415 Acc: 0.8130\n",
      "val Loss: 0.3273 Acc: 0.8947\n",
      "\n",
      "Epoch 3/13\n",
      "----------\n",
      "train Loss: 0.5083 Acc: 0.8308\n",
      "val Loss: 0.3124 Acc: 0.8994\n",
      "\n",
      "Epoch 4/13\n",
      "----------\n",
      "train Loss: 0.4667 Acc: 0.8374\n",
      "val Loss: 0.4752 Acc: 0.8929\n",
      "\n",
      "Epoch 5/13\n",
      "----------\n",
      "train Loss: 0.4506 Acc: 0.8493\n",
      "val Loss: 0.2532 Acc: 0.9169\n",
      "\n",
      "Epoch 6/13\n",
      "----------\n",
      "train Loss: 0.4304 Acc: 0.8536\n",
      "val Loss: 0.3022 Acc: 0.8994\n",
      "\n",
      "Epoch 7/13\n",
      "----------\n",
      "train Loss: 0.3248 Acc: 0.8847\n",
      "val Loss: 0.2452 Acc: 0.9215\n",
      "\n",
      "Epoch 8/13\n",
      "----------\n",
      "train Loss: 0.2794 Acc: 0.9045\n",
      "val Loss: 0.2235 Acc: 0.9298\n",
      "\n",
      "Epoch 9/13\n",
      "----------\n",
      "train Loss: 0.2513 Acc: 0.9158\n",
      "val Loss: 0.2447 Acc: 0.9280\n",
      "\n",
      "Epoch 10/13\n",
      "----------\n",
      "train Loss: 0.2395 Acc: 0.9164\n",
      "val Loss: 0.2337 Acc: 0.9243\n",
      "\n",
      "Epoch 11/13\n",
      "----------\n",
      "train Loss: 0.2291 Acc: 0.9186\n",
      "val Loss: 0.2238 Acc: 0.9234\n",
      "\n",
      "Epoch 12/13\n",
      "----------\n",
      "train Loss: 0.2304 Acc: 0.9200\n",
      "val Loss: 0.2228 Acc: 0.9271\n",
      "\n",
      "Epoch 13/13\n",
      "----------\n",
      "train Loss: 0.2169 Acc: 0.9240\n",
      "val Loss: 0.2152 Acc: 0.9335\n",
      "\n",
      "Training complete in 64m 20s\n",
      "Best val Acc: 0.933518\n"
     ]
    }
   ],
   "source": [
    "model_ft = train_model(model_ft, criterion, optimizer_ft, exp_lr_scheduler,\n",
    "                       num_epochs=14)"
   ]
  },
  {
   "cell_type": "code",
   "execution_count": 11,
   "id": "bbbe6271",
   "metadata": {
    "scrolled": true
   },
   "outputs": [],
   "source": [
    "#Сохраняем модель\n",
    "torch.save(model_ft,'0.933518acc-0.2152loss.pth')\n",
    "torch.save(model_ft.state_dict(), \"weights-0.933518acc-0.2152loss.pth\")"
   ]
  },
  {
   "cell_type": "code",
   "execution_count": null,
   "id": "86ccadd9",
   "metadata": {},
   "outputs": [],
   "source": [
    "#Чистка кеша видеокарты\n",
    "torch.cuda.memory_summary(device=None, abbreviated=False)\n",
    "import gc\n",
    "gc.collect()\n",
    "import torch\n",
    "torch.cuda.empty_cache()"
   ]
  },
  {
   "cell_type": "code",
   "execution_count": 15,
   "id": "aa4e7602",
   "metadata": {},
   "outputs": [],
   "source": [
    "run.stop()"
   ]
  }
 ],
 "metadata": {
  "kernelspec": {
   "display_name": "Python 3 (ipykernel)",
   "language": "python",
   "name": "python3"
  },
  "language_info": {
   "codemirror_mode": {
    "name": "ipython",
    "version": 3
   },
   "file_extension": ".py",
   "mimetype": "text/x-python",
   "name": "python",
   "nbconvert_exporter": "python",
   "pygments_lexer": "ipython3",
   "version": "3.9.16"
  }
 },
 "nbformat": 4,
 "nbformat_minor": 5
}
